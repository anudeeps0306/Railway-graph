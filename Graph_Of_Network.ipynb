{
 "cells": [
  {
   "cell_type": "code",
   "execution_count": null,
   "id": "7909a5fa",
   "metadata": {},
   "outputs": [],
   "source": [
    "import json\n",
    "import networkx as nx\n",
    "import matplotlib.pyplot as plt\n",
    "\n",
    "# Load the route map data\n",
    "with open('route.json') as route_file:\n",
    "    route_data = json.load(route_file)\n",
    "\n",
    "# Create an empty directed graph\n",
    "graph = nx.DiGraph()\n",
    "\n",
    "# Iterate over each train and its route\n",
    "for train, stations in route_data.items():\n",
    "    num_stations = len(stations)\n",
    "\n",
    "    # Add edges between consecutive stations in the route\n",
    "    for i in range(num_stations - 1):\n",
    "        source = stations[i]\n",
    "        target = stations[i + 1]\n",
    "        graph.add_edge(source, target)\n",
    "\n",
    "# # Set the layout of the graph\n",
    "# pos = nx.spring_layout(graph, k=0.5)  # Increase the value of 'k' for more spacing\n",
    "\n",
    "# # Draw the graph\n",
    "# plt.figure(figsize=(12, 8))  # Adjust the figure size as needed\n",
    "# nx.draw(graph, pos, with_labels=True, node_size=500, font_size=8)\n",
    "# plt.tight_layout()  # Add spacing between nodes\n",
    "# plt.axis('off')  # Disable axis\n",
    "# plt.savefig('graph.png', dpi=300)  # Save the graph as a PNG file with higher resolution\n",
    "# plt.show()\n"
   ]
  },
  {
   "cell_type": "code",
   "execution_count": 15,
   "id": "c46ee612",
   "metadata": {},
   "outputs": [
    {
     "name": "stdout",
     "output_type": "stream",
     "text": [
      "Shortest Path 1: ['Sirsa', 'Suchan Kotli', 'Jodhka', 'Ding', 'Bhattu', 'Mandi Adampur', 'Jakhod Khera', 'Hisar']\n",
      "Shortest Path 2: ['Sirsa', 'Bara Gudah', 'Kalanwali', 'Raman', 'Shergarh', 'BHATINDA JN', 'KATAR SINGHWALA', 'KOT FATTEH', 'MAISAR KHANA', 'MAUR', 'KOTLI KALAN', 'SADDA SINGHWALA', 'MANSA', 'NARINDARPURA', 'BUDHLADA', 'DATEWAS', 'BARETA', 'KAGANGARH', 'JAKHAL JN', 'Kudni', 'Jamalpur Shaikhan', 'Pirthala Llauda', 'Gajuwala', 'Uklana', 'Daulatpur Haryana', 'Barwala', 'Bugana', 'Dhansu', 'Raipur Hariyana Junction', 'Hisar']\n",
      "Shortest Path 3: ['Sirsa', 'Bara Gudah', 'Kalanwali', 'Raman', 'Shergarh', 'BHATINDA JN', 'KATAR SINGHWALA', 'BHATINDA B CABIN', 'KOT FATTEH', 'MAISAR KHANA', 'MAUR', 'KOTLI KALAN', 'SADDA SINGHWALA', 'MANSA', 'NARINDARPURA', 'BUDHLADA', 'DATEWAS', 'BARETA', 'KAGANGARH', 'JAKHAL JN', 'Kudni', 'Jamalpur Shaikhan', 'Pirthala Llauda', 'Gajuwala', 'Uklana', 'Daulatpur Haryana', 'Barwala', 'Bugana', 'Dhansu', 'Raipur Hariyana Junction', 'Hisar']\n",
      "Shortest Path 4: ['Sirsa', 'Bara Gudah', 'Kalanwali', 'Raman', 'Shergarh', 'BHATINDA JN', 'GURSAR SHNEWALA', 'SANGAT', 'BAGWALI', 'PATHRALA', 'MANDI DABWALI', 'BIRANG KHERA', 'DHABAN', 'SANGARIA', 'MANAKSAR', 'NAWAN', 'HANUMANGARH JN', 'Hanumangarh Town', 'Sherekan', 'Ellenabad', 'Khinaniyan', 'Nohar', 'Diplana', 'Gogameri', 'Tahsil Bhadra', 'Anupshahr', 'Sidmukh', 'Suratpura', 'Jhunpa', 'Siwani', 'Charaud', 'Hisar']\n"
     ]
    }
   ],
   "source": [
    "import pickle\n",
    "import networkx as nx\n",
    "\n",
    "# Load the graph from the pickle file\n",
    "with open('graph_details.pickle', 'rb') as file:\n",
    "    graph = pickle.load(file)\n",
    "\n",
    "# Find the 4 shortest paths between Sirsa and Hisar\n",
    "shortest_paths = nx.shortest_simple_paths(graph, source=\"Sirsa\", target=\"Hisar\", weight=None)\n",
    "\n",
    "# Print the top 4 shortest paths\n",
    "for i, path in enumerate(shortest_paths, 1):\n",
    "    print(f\"Shortest Path {i}: {path}\")\n",
    "    if i == 4:\n",
    "        break\n"
   ]
  },
  {
   "cell_type": "code",
   "execution_count": null,
   "id": "24cdce82",
   "metadata": {},
   "outputs": [],
   "source": []
  },
  {
   "cell_type": "code",
   "execution_count": null,
   "id": "b5f7bde5",
   "metadata": {},
   "outputs": [],
   "source": []
  }
 ],
 "metadata": {
  "kernelspec": {
   "display_name": "Python 3 (ipykernel)",
   "language": "python",
   "name": "python3"
  },
  "language_info": {
   "codemirror_mode": {
    "name": "ipython",
    "version": 3
   },
   "file_extension": ".py",
   "mimetype": "text/x-python",
   "name": "python",
   "nbconvert_exporter": "python",
   "pygments_lexer": "ipython3",
   "version": "3.10.3"
  }
 },
 "nbformat": 4,
 "nbformat_minor": 5
}
