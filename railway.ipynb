{
 "cells": [
  {
   "cell_type": "code",
   "execution_count": 2,
   "id": "25e0876e",
   "metadata": {
    "scrolled": true
   },
   "outputs": [],
   "source": [
    "import json\n",
    "\n",
    "# Load the scheduled data\n",
    "with open('schedules.json') as scheduled_file:\n",
    "    scheduled_data = json.load(scheduled_file)\n",
    "\n",
    "# Create a dictionary to store the segregated data\n",
    "segregated_data = {}\n",
    "\n",
    "# Iterate over each entry in the scheduled data\n",
    "for entry in scheduled_data:\n",
    "    train_name = entry['train_name']\n",
    "    day = entry['day']\n",
    "\n",
    "    # Check if the train_name exists in the segregated data dictionary\n",
    "    if train_name not in segregated_data:\n",
    "        segregated_data[train_name] = {}\n",
    "\n",
    "    # Check if the day exists in the segregated data dictionary for the train_name\n",
    "    if day not in segregated_data[train_name]:\n",
    "        segregated_data[train_name][day] = []\n",
    "\n",
    "    # Add the station_name, arrival, and departure information to the segregated data\n",
    "    segregated_data[train_name][day].append({\n",
    "        'station_name': entry['station_name'],\n",
    "        'arrival': entry['arrival'],\n",
    "        'departure': entry['departure']\n",
    "    })\n",
    "\n",
    "# Dump the segregated data into a JSON file\n",
    "with open('segregated_data.json', 'w') as output_file:\n",
    "    json.dump(segregated_data, output_file, indent=4)\n"
   ]
  },
  {
   "cell_type": "code",
   "execution_count": 3,
   "id": "9eae2c24",
   "metadata": {},
   "outputs": [
    {
     "name": "stdout",
     "output_type": "stream",
     "text": [
      "{}\n"
     ]
    }
   ],
   "source": [
    "print(train_stations_map)"
   ]
  },
  {
   "cell_type": "code",
   "execution_count": null,
   "id": "6a2ed1e3",
   "metadata": {},
   "outputs": [],
   "source": [
    "import json\n",
    "\n",
    "# Load train routes data from the JSON file\n",
    "with open('trains.json') as train_routes_file:\n",
    "    train_routes_data = json.load(train_routes_file)['features']\n",
    "\n",
    "# Load stations data from the JSON file\n",
    "with open('stations.json') as stations_file:\n",
    "    stations_data = json.load(stations_file)['features']\n",
    "\n",
    "# Preprocess stations data into a dictionary with coordinates as keys\n",
    "stations_map = {}\n",
    "for station in stations_data:\n",
    "    if 'geometry' in station and station['geometry'] is not None and 'coordinates' in station['geometry'] and len(station['geometry']['coordinates']) >= 2:\n",
    "        coordinates = tuple(station['geometry']['coordinates'][:2])\n",
    "        station_name = station['properties']['name']\n",
    "        stations_map[coordinates] = station_name\n",
    "\n",
    "# Create a dictionary to store train names and their corresponding station names\n",
    "train_stations_map = {}\n",
    "\n",
    "# Iterate over each train route in the train routes data\n",
    "for train_route in train_routes_data:\n",
    "    if 'properties' in train_route and 'name' in train_route['properties']:\n",
    "        train_name = train_route['properties']['name']\n",
    "        station_names = []\n",
    "\n",
    "        # Iterate over the coordinates of the train route to map the coordinates with station names\n",
    "        if 'geometry' in train_route and 'coordinates' in train_route['geometry']:\n",
    "            for coordinate in train_route['geometry']['coordinates']:\n",
    "                if len(coordinate) >= 2:\n",
    "                    coordinates = tuple(coordinate[:2])\n",
    "\n",
    "                    # Find the station in the preprocessed stations data with the matching coordinates\n",
    "                    if coordinates in stations_map:\n",
    "                        station_name = stations_map[coordinates]\n",
    "                        station_names.append(station_name)\n",
    "\n",
    "        # Add the train name and the array of station names to the dictionary\n",
    "        train_stations_map[train_name] = station_names\n",
    "\n",
    "# Print the train names with their corresponding station names\n",
    "for train_name, station_names in train_stations_map.items():\n",
    "    print(train_name + ':', station_names)\n"
   ]
  },
  {
   "cell_type": "code",
   "execution_count": null,
   "id": "66190e56",
   "metadata": {},
   "outputs": [],
   "source": [
    "import json\n",
    "\n",
    "# Convert the train_stations_map dictionary to JSON\n",
    "result_json = json.dumps(train_stations_map, indent=4)\n",
    "\n",
    "# Write the JSON to a file\n",
    "with open('train_stations.json', 'w') as json_file:\n",
    "    json_file.write(result_json)\n"
   ]
  }
 ],
 "metadata": {
  "kernelspec": {
   "display_name": "Python 3 (ipykernel)",
   "language": "python",
   "name": "python3"
  },
  "language_info": {
   "codemirror_mode": {
    "name": "ipython",
    "version": 3
   },
   "file_extension": ".py",
   "mimetype": "text/x-python",
   "name": "python",
   "nbconvert_exporter": "python",
   "pygments_lexer": "ipython3",
   "version": "3.10.3"
  }
 },
 "nbformat": 4,
 "nbformat_minor": 5
}
